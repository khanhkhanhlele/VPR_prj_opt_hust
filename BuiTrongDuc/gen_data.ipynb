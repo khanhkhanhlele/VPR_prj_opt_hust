{
 "cells": [
  {
   "cell_type": "code",
   "execution_count": 23,
   "metadata": {},
   "outputs": [],
   "source": [
    "import numpy as np\n",
    "def gen_data(N, K):\n",
    "    x = np.zeros(N + 1)\n",
    "    y = np.zeros(N + 1)\n",
    "    x[0] = 0\n",
    "    y[0] = 0\n",
    "    for i in range(1, N + 1):\n",
    "        x[i] = np.random.uniform(-100, 100)\n",
    "        y[i] = np.random.uniform(-100, 100)\n",
    "    d = np.zeros(N + 1, dtype=int)\n",
    "    t = np.zeros((N + 1, N + 1), dtype=int)\n",
    "    for i in range(0, N + 1):\n",
    "        for j in range(0, N + 1):\n",
    "            t[i][j] = np.sqrt((x[i] - x[j]) ** 2 + (y[i] - y[j]) ** 2)\n",
    "    for i in range(1, N + 1):\n",
    "        d[i] = np.random.randint(50, 1000)\n",
    "    \n",
    "    data_path = \"data\\\\data_\" + str(N) + \"_\" + str(K) + \".txt\"\n",
    "    with open(data_path, \"w\") as f:\n",
    "        f.write(str(N) + \" \" + str(K) + \"\\n\")\n",
    "        for i in range(1, N + 1):\n",
    "            f.write(str(d[i]) + \" \")\n",
    "        f.write(\"\\n\")\n",
    "        for i in range(0, N + 1):\n",
    "            for j in range(0, N + 1):\n",
    "                f.write(str(t[i][j]) + \" \")\n",
    "            f.write(\"\\n\")\n",
    "    \n",
    "    check = 0\n",
    "    for i in range(0, N + 1):\n",
    "        for j in range(0, N + 1):\n",
    "            if i!= j:\n",
    "                if t[i][j] == 0:\n",
    "                    check = 1\n",
    "                    break\n",
    "\n",
    "    if check == 1:\n",
    "        print(\"Error\")\n",
    "    else:\n",
    "        print(\"Success\")"
   ]
  },
  {
   "cell_type": "code",
   "execution_count": 24,
   "metadata": {},
   "outputs": [
    {
     "name": "stdout",
     "output_type": "stream",
     "text": [
      "Success\n"
     ]
    }
   ],
   "source": [
    "gen_data(50, 20)"
   ]
  }
 ],
 "metadata": {
  "kernelspec": {
   "display_name": "Python 3",
   "language": "python",
   "name": "python3"
  },
  "language_info": {
   "codemirror_mode": {
    "name": "ipython",
    "version": 3
   },
   "file_extension": ".py",
   "mimetype": "text/x-python",
   "name": "python",
   "nbconvert_exporter": "python",
   "pygments_lexer": "ipython3",
   "version": "3.12.0"
  }
 },
 "nbformat": 4,
 "nbformat_minor": 2
}
